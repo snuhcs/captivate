{
 "metadata": {
  "language_info": {
   "codemirror_mode": {
    "name": "ipython",
    "version": 3
   },
   "file_extension": ".py",
   "mimetype": "text/x-python",
   "name": "python",
   "nbconvert_exporter": "python",
   "pygments_lexer": "ipython3",
   "version": "3.7.7-final"
  },
  "orig_nbformat": 2,
  "kernelspec": {
   "name": "Python 3.7.7 64-bit ('base': conda)",
   "display_name": "Python 3.7.7 64-bit ('base': conda)",
   "metadata": {
    "interpreter": {
     "hash": "98b0a9b7b4eaaa670588a142fd0a9b87eaafe866f1db4228be72b4211d12040f"
    }
   }
  }
 },
 "nbformat": 4,
 "nbformat_minor": 2,
 "cells": [
  {
   "cell_type": "code",
   "execution_count": 7,
   "metadata": {},
   "outputs": [],
   "source": [
    "import sys\n",
    "sys.path.append('..')\n",
    "\n",
    "import os\n",
    "import pandas as pd\n",
    "import numpy as np\n",
    "import re\n",
    "import numpy as np\n",
    "from gensim.models import KeyedVectors\n",
    "from konlpy.tag import Twitter"
   ]
  },
  {
   "cell_type": "code",
   "execution_count": 8,
   "metadata": {},
   "outputs": [],
   "source": [
    "with open('../semnet/wordlist.txt', 'r') as f:\n",
    "    raw = f.read()\n",
    "    wordlist = raw.split()"
   ]
  },
  {
   "cell_type": "code",
   "execution_count": 9,
   "metadata": {},
   "outputs": [],
   "source": [
    "pretrained_embeddings = '../../model_weights/pos.vec'\n",
    "pos_vectors = KeyedVectors.load_word2vec_format(pretrained_embeddings, binary=False)"
   ]
  },
  {
   "cell_type": "code",
   "execution_count": 18,
   "metadata": {},
   "outputs": [],
   "source": [
    "twitter = Twitter()\n",
    "\n",
    "def normalize(array):\n",
    "    norm = np.linalg.norm(array)\n",
    "    return array / norm\n",
    "\n",
    "def create_word_vector(word):\n",
    "    pos_list = twitter.pos(word, norm=True)\n",
    "    word_vector = np.sum([pos_vectors.word_vec(str(pos).replace(\" \", \"\")) for pos in pos_list], axis=0)\n",
    "    return normalize(word_vector)"
   ]
  },
  {
   "cell_type": "code",
   "execution_count": 20,
   "metadata": {},
   "outputs": [],
   "source": [
    "vec = create_word_vector('강아지')"
   ]
  },
  {
   "cell_type": "code",
   "execution_count": 21,
   "metadata": {},
   "outputs": [
    {
     "output_type": "execute_result",
     "data": {
      "text/plain": "(200,)"
     },
     "metadata": {},
     "execution_count": 21
    }
   ],
   "source": [
    "vec.shape"
   ]
  },
  {
   "cell_type": "code",
   "execution_count": 22,
   "metadata": {},
   "outputs": [],
   "source": [
    "from gensim.similarities.index import AnnoyIndexer"
   ]
  },
  {
   "cell_type": "code",
   "execution_count": 24,
   "metadata": {},
   "outputs": [],
   "source": [
    "indexer = AnnoyIndexer(pos_vectors, 2)"
   ]
  },
  {
   "cell_type": "code",
   "execution_count": 30,
   "metadata": {},
   "outputs": [],
   "source": [
    "pos_list = twitter.pos('강아지', norm=True)"
   ]
  },
  {
   "cell_type": "code",
   "execution_count": 38,
   "metadata": {},
   "outputs": [],
   "source": [
    "query = str(pos_list[0])"
   ]
  },
  {
   "cell_type": "code",
   "execution_count": 42,
   "metadata": {},
   "outputs": [],
   "source": [
    "query = query.replace(\" \", \"\")"
   ]
  },
  {
   "cell_type": "code",
   "execution_count": 45,
   "metadata": {},
   "outputs": [
    {
     "output_type": "execute_result",
     "data": {
      "text/plain": "[(&quot;(&#39;강아지&#39;,&#39;Noun&#39;)&quot;, 1.0),\n (&quot;(&#39;반려견&#39;,&#39;Noun&#39;)&quot;, 0.6310654580593109),\n (&quot;(&#39;고양이&#39;,&#39;Noun&#39;)&quot;, 0.6296913921833038),\n (&quot;(&#39;동물병원&#39;,&#39;Noun&#39;)&quot;, 0.5350783169269562),\n (&quot;(&#39;애견&#39;,&#39;Noun&#39;)&quot;, 0.5251836776733398),\n (&quot;(&#39;원숭이&#39;,&#39;Noun&#39;)&quot;, 0.5181112289428711),\n (&quot;(&#39;수의사&#39;,&#39;Noun&#39;)&quot;, 0.51172935962677),\n (&quot;(&#39;유기동물&#39;,&#39;Noun&#39;)&quot;, 0.505106121301651),\n (&quot;(&#39;동물보호법&#39;,&#39;Noun&#39;)&quot;, 0.5039792656898499),\n (&quot;(&#39;애완&#39;,&#39;Noun&#39;)&quot;, 0.4968421459197998)]"
     },
     "metadata": {},
     "execution_count": 45
    }
   ],
   "source": [
    "pos_vectors.most_similar(query, topn=10, indexer=indexer)"
   ]
  },
  {
   "cell_type": "code",
   "execution_count": 58,
   "metadata": {
    "tags": []
   },
   "outputs": [
    {
     "output_type": "stream",
     "name": "stdout",
     "text": "word not found: 걸레\nword not found: 도너츠\nword not found: 말(말씀)\nword not found: 메론\nword not found: 무(채소)\nword not found: 비누방울\nword not found: 시소\nword not found: 이(이빨)\nword not found: 일(하다)\nword not found: 잠바\nword not found: 쟁반\nword not found: 차(자동차)\nword not found: 참새\nword not found: 크레파스\nword not found: 다르다\nword not found: 모르다\nword not found: 알다\nword not found: 놀라다\nword not found: 씻다\nword not found: 박수치다\nword not found: 배부르다\nword not found: 웃다\nword not found: 입다\nword not found: 다니다\nword not found: 뛰다\nword not found: 바르다\nword not found: 살다\nword not found: 들다\nword not found: 마시다\nword not found: 안되다\nword not found: 울다\nword not found: 기다리다\nword not found: 끄다\nword not found: 넣다\nword not found: 눕다\nword not found: 닫다\nword not found: 던지다\nword not found: 때리다\nword not found: 만들다\nword not found: 묻다\nword not found: 벗다\nword not found: 빗다\nword not found: 신다\nword not found: 꺼내다\nword not found: 넘어지다\nword not found: 멈추다\nword not found: 빨다\nword not found: 쓰다(모자)\nword not found: 앉다\nword not found: 춤추다\nword not found: 걸다\nword not found: 다치다\nword not found: 닦다\nword not found: 덮다\nword not found: 뜨다(물에)\nword not found: 밀다\nword not found: 불다\nword not found: 숨다\nword not found: 전화하다\nword not found: 끼우다\nword not found: 날다\nword not found: 당기다\nword not found: 돌리다\nword not found: 돌아가다\nword not found: 떨어뜨리다\nword not found: 맛보다\nword not found: 부르다\nword not found: 빼앗다\nword not found: 자르다\nword not found: 깨다\nword not found: 놓다\nword not found: 두드리다\nword not found: 붓다\nword not found: 빠지다\nword not found: 빼다\nword not found: 뽑다\nword not found: 일어나다\nword not found: 켜다\nword not found: 끝내다\nword not found: 나르다\nword not found: 버리다\nword not found: 쏟다\nword not found: 쓰러지다\nword not found: 틀다\nword not found: 혼나다\nword not found: 깎다\nword not found: 꽂다\nword not found: 누르다\nword not found: 떨어지다\nword not found: 쓰다(글씨)\nword not found: 가르치다\nword not found: 굽히다\nword not found: 끌다\nword not found: 부딪치다\nword not found: 칠하다\nword not found: 가리키다\nword not found: 끊어지다\nword not found: 싣다\nword not found: 지우다\nword not found: 떼다\nword not found: 죽다\nword not found: 가깝다\nword not found: 가볍다\nword not found: 고맙다\nword not found: 괜찮다\nword not found: 귀엽다\nword not found: 나쁘다\nword not found: 달다(맛)\nword not found: 더럽다\nword not found: 덥다\nword not found: 똑같다\nword not found: 뜨겁다\nword not found: 맛없다\nword not found: 맵다\nword not found: 멀다\nword not found: 목마르다\nword not found: 무겁다\nword not found: 무섭다\nword not found: 밉다\nword not found: 바쁘다\nword not found: 배고프다\nword not found: 빠르다\nword not found: 쉽다\nword not found: 슬프다\nword not found: 시끄럽다\nword not found: 심심하다\nword not found: 아프다\nword not found: 어둡다\nword not found: 어렵다\nword not found: 예쁘다\nword not found: 좋다\nword not found: 즐겁다\nword not found: 짜다\nword not found: 착하다\nword not found: 크다\nword not found: 힘들다\nword not found: 너무\n"
    }
   ],
   "source": [
    "def get_pruned_vectors():\n",
    "    ''' Saves a new file of keyed embeddings corresponding to only\n",
    "        the words in the basic word list.\n",
    "    '''\n",
    "    with open('../semnet/wordlist.txt', 'r') as f:\n",
    "        raw = f.read()\n",
    "        basic_words = raw.split()\n",
    "    \n",
    "    with open('../semnet/basic_word_embeddings.vec', 'w') as f:\n",
    "        for word in basic_words:\n",
    "            try:\n",
    "                vec = create_word_vector(word)\n",
    "                f.write('{} {}\\n'.format(word, ' '.join(vec.astype('str'))))\n",
    "            except KeyError:\n",
    "                print('word not found: {}'.format(word))\n",
    "\n",
    "get_pruned_vectors()"
   ]
  },
  {
   "cell_type": "code",
   "execution_count": 60,
   "metadata": {},
   "outputs": [],
   "source": [
    "basic_vectors = KeyedVectors.load_word2vec_format('../semnet/basic_word_embeddings.vec', binary=False)"
   ]
  },
  {
   "cell_type": "code",
   "execution_count": 67,
   "metadata": {},
   "outputs": [
    {
     "output_type": "execute_result",
     "data": {
      "text/plain": "[(&#39;아빠&#39;, 0.7519980669021606),\n (&#39;딸&#39;, 0.6410537958145142),\n (&#39;언니&#39;, 0.6316390037536621),\n (&#39;오빠&#39;, 0.6312486529350281),\n (&#39;아기&#39;, 0.5952275991439819),\n (&#39;선생님&#39;, 0.5938552021980286),\n (&#39;할아버지&#39;, 0.5890004634857178),\n (&#39;아저씨&#39;, 0.577961802482605),\n (&#39;친구&#39;, 0.5630447864532471),\n (&#39;누나&#39;, 0.559259295463562)]"
     },
     "metadata": {},
     "execution_count": 67
    }
   ],
   "source": [
    "query = '엄마'\n",
    "basic_vectors.most_similar(positive=query, topn=10)"
   ]
  }
 ]
}