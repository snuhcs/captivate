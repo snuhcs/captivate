{
 "metadata": {
  "language_info": {
   "codemirror_mode": {
    "name": "ipython",
    "version": 3
   },
   "file_extension": ".py",
   "mimetype": "text/x-python",
   "name": "python",
   "nbconvert_exporter": "python",
   "pygments_lexer": "ipython3",
   "version": "3.7.7-final"
  },
  "orig_nbformat": 2,
  "kernelspec": {
   "name": "Python 3.7.7 64-bit ('conda': virtualenv)",
   "display_name": "Python 3.7.7 64-bit ('conda': virtualenv)",
   "metadata": {
    "interpreter": {
     "hash": "98b0a9b7b4eaaa670588a142fd0a9b87eaafe866f1db4228be72b4211d12040f"
    }
   }
  }
 },
 "nbformat": 4,
 "nbformat_minor": 2,
 "cells": [
  {
   "cell_type": "code",
   "execution_count": 1,
   "metadata": {},
   "outputs": [],
   "source": [
    "''' This notebook is intended to demonstrate the word recommendation algorithm,\n",
    "    including:\n",
    "    - initial state\n",
    "    - recommended words after context detection (both visual and audial)\n",
    "    - state after parent interaction (\"word hits\")\n",
    "'''\n",
    "\n",
    "import sys\n",
    "sys.path.insert(0, '..')\n",
    "\n",
    "from modelserver import ModelServer\n",
    "\n",
    "import pandas as pd\n",
    "import numpy as np\n",
    "import ipywidgets as widgets\n",
    "from IPython.display import display, Markdown, clear_output\n",
    "\n",
    "%load_ext autoreload\n",
    "%autoreload 2\n",
    "\n",
    "\n",
    "server = ModelServer(None)"
   ]
  },
  {
   "cell_type": "code",
   "execution_count": 2,
   "metadata": {},
   "outputs": [
    {
     "output_type": "display_data",
     "data": {
      "text/plain": "VBox(children=(Text(value='', description='Visual hit'), Text(value='', description='Audial hit'), Button(desc…",
      "application/vnd.jupyter.widget-view+json": {
       "version_major": 2,
       "version_minor": 0,
       "model_id": "91991bdbc36f43cf860e22d70401d8c0"
      }
     },
     "metadata": {}
    }
   ],
   "source": [
    "text_visual = widgets.Text(value='', description='Visual hit')\n",
    "text_audial = widgets.Text(value='', description='Audial hit')\n",
    "text_spoken = widgets.Text(value='', description='Spoken')\n",
    "hit_button = widgets.Button(description='Hit')\n",
    "spoken_button = widgets.Button(description='Spoken')\n",
    "output = widgets.Output()\n",
    "\n",
    "def on_hit_button_clicked(_):\n",
    "    with output:\n",
    "        clear_output()\n",
    "\n",
    "        if text_visual.value != '':\n",
    "            server.update_context('visual', [text_visual.value])\n",
    "        \n",
    "        if text_audial.value != '':\n",
    "            server.update_context('audial', [text_audial.value])\n",
    "\n",
    "        print_state()\n",
    "\n",
    "\n",
    "def on_spoken_button_clicked(_):\n",
    "    with output:\n",
    "        clear_output()\n",
    "        server.on_spoken(text_spoken.value)\n",
    "        print_state()\n",
    "\n",
    "\n",
    "def print_state():\n",
    "    print(server.context)\n",
    "    print(server.get_recommendations())\n",
    "    print(server.spoken)\n",
    "\n",
    "hit_button.on_click(on_hit_button_clicked)\n",
    "spoken_button.on_click(on_spoken_button_clicked)\n",
    "\n",
    "widgets.VBox([text_visual, text_audial, hit_button, output, text_spoken, spoken_button])"
   ]
  },
  {
   "cell_type": "code",
   "execution_count": null,
   "metadata": {},
   "outputs": [],
   "source": []
  }
 ]
}