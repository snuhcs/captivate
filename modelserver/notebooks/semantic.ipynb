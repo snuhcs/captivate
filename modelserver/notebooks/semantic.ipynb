{
 "metadata": {
  "language_info": {
   "codemirror_mode": {
    "name": "ipython",
    "version": 3
   },
   "file_extension": ".py",
   "mimetype": "text/x-python",
   "name": "python",
   "nbconvert_exporter": "python",
   "pygments_lexer": "ipython3",
   "version": "3.7.7-final"
  },
  "orig_nbformat": 2,
  "kernelspec": {
   "name": "Python 3.7.7 64-bit",
   "display_name": "Python 3.7.7 64-bit",
   "metadata": {
    "interpreter": {
     "hash": "98b0a9b7b4eaaa670588a142fd0a9b87eaafe866f1db4228be72b4211d12040f"
    }
   }
  }
 },
 "nbformat": 4,
 "nbformat_minor": 2,
 "cells": [
  {
   "cell_type": "code",
   "execution_count": 2,
   "metadata": {},
   "outputs": [],
   "source": [
    "import sys\n",
    "sys.path.insert(0, '..')\n",
    "\n",
    "import os\n",
    "import pandas as pd\n",
    "import numpy as np\n",
    "import re\n",
    "import numpy as np\n",
    "from gensim import models\n",
    "from gensim.models import KeyedVectors\n",
    "from konlpy.tag import Twitter\n",
    "\n",
    "from soylemma import Lemmatizer\n",
    "from soynlp.noun import LRNounExtractor_v2"
   ]
  },
  {
   "cell_type": "code",
   "execution_count": 3,
   "metadata": {},
   "outputs": [],
   "source": [
    "wordlist = pd.read_csv('../semnet/korean_learning_words.csv')\n",
    "wordlist = wordlist[wordlist['등급'] == 'A']\n",
    "\n",
    "utterance = \"엄마랑 신나는 밀가루 놀이 꾹 꾹 꾹 꾹 한번 눌러볼래\"\n",
    "\n",
    "# loading the model takes several minutes\n",
    "pretrained_embeddings = models.fasttext.load_facebook_model('../semnet/cc.ko.300.bin.gz')"
   ]
  },
  {
   "cell_type": "code",
   "execution_count": 10,
   "metadata": {},
   "outputs": [
    {
     "output_type": "execute_result",
     "data": {
      "text/plain": [
       "[('백팩', 0.6296093463897705),\n",
       " ('지갑', 0.6130480766296387),\n",
       " ('쏠채', 0.6001588702201843),\n",
       " ('더플', 0.5898803472518921),\n",
       " ('가방이', 0.5896769165992737),\n",
       " ('배낭', 0.584394633769989),\n",
       " ('신발', 0.5715400576591492),\n",
       " ('미니백', 0.561869740486145),\n",
       " ('보관흡연', 0.5529654622077942),\n",
       " ('가방을', 0.5496729612350464),\n",
       " ('반접기', 0.5482434630393982),\n",
       " ('서류가방', 0.5455666780471802),\n",
       " ('손가방', 0.5432091951370239),\n",
       " ('가방까지', 0.5423489212989807),\n",
       " ('키폴', 0.5409101247787476),\n",
       " ('가방이나', 0.5362346172332764),\n",
       " ('핸드백', 0.5361777544021606),\n",
       " ('가죽가방', 0.5361340641975403),\n",
       " ('가방은', 0.5353990793228149),\n",
       " ('혁대', 0.5353508591651917),\n",
       " ('의류', 0.5316659808158875),\n",
       " ('프라이탁', 0.5249173045158386),\n",
       " ('더플백', 0.521084725856781),\n",
       " ('봉투', 0.5205579996109009),\n",
       " ('륙색', 0.5196150541305542),\n",
       " ('캐쥬얼백', 0.5185348391532898),\n",
       " ('가죽', 0.5162807703018188),\n",
       " ('장비가방', 0.5151470303535461),\n",
       " ('파우치', 0.5146753787994385),\n",
       " ('가방과', 0.5139600038528442)]"
      ]
     },
     "metadata": {},
     "execution_count": 10
    }
   ],
   "source": [
    "pretrained_embeddings.similar_by_word('가방', 30)"
   ]
  }
 ]
}