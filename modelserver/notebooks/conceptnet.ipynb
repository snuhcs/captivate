{
 "metadata": {
  "language_info": {
   "codemirror_mode": {
    "name": "ipython",
    "version": 3
   },
   "file_extension": ".py",
   "mimetype": "text/x-python",
   "name": "python",
   "nbconvert_exporter": "python",
   "pygments_lexer": "ipython3",
   "version": "3.7.7-final"
  },
  "orig_nbformat": 2,
  "kernelspec": {
   "name": "python3",
   "display_name": "Python 3"
  }
 },
 "nbformat": 4,
 "nbformat_minor": 2,
 "cells": [
  {
   "cell_type": "code",
   "execution_count": 19,
   "metadata": {},
   "outputs": [],
   "source": [
    "import requests\n",
    "from urllib.parse import urljoin"
   ]
  },
  {
   "cell_type": "code",
   "execution_count": 17,
   "metadata": {},
   "outputs": [],
   "source": [
    "endpoint = '/c/en/car'\n",
    "url = urljoin('http://api.conceptnet.io', endpoint)\n",
    "\n",
    "obj = requests.get(url).json()"
   ]
  },
  {
   "cell_type": "code",
   "execution_count": 3,
   "metadata": {},
   "outputs": [
    {
     "output_type": "execute_result",
     "data": {
      "text/plain": [
       "dict_keys(['@context', '@id', 'edges', 'version', 'view'])"
      ]
     },
     "metadata": {},
     "execution_count": 3
    }
   ],
   "source": [
    "obj.keys()"
   ]
  },
  {
   "cell_type": "code",
   "execution_count": 4,
   "metadata": {},
   "outputs": [
    {
     "output_type": "execute_result",
     "data": {
      "text/plain": [
       "{'@id': '/c/en/car?offset=0&limit=20',\n",
       " '@type': 'PartialCollectionView',\n",
       " 'comment': \"There are more results. Follow the 'nextPage' link for more.\",\n",
       " 'firstPage': '/c/en/car?offset=0&limit=20',\n",
       " 'nextPage': '/c/en/car?offset=20&limit=20',\n",
       " 'paginatedProperty': 'edges'}"
      ]
     },
     "metadata": {},
     "execution_count": 4
    }
   ],
   "source": [
    "obj['view']"
   ]
  },
  {
   "cell_type": "code",
   "execution_count": 20,
   "metadata": {},
   "outputs": [],
   "source": [
    "next_page = obj['view']['nextPage']\n",
    "obj2 = requests.get(urljoin(url, next_page)).json()"
   ]
  },
  {
   "cell_type": "code",
   "execution_count": 21,
   "metadata": {},
   "outputs": [
    {
     "output_type": "execute_result",
     "data": {
      "text/plain": [
       "['/a/[/r/HasPrerequisite/,/c/en/going_somewhere/,/c/en/car/]',\n",
       " '/a/[/r/PartOf/,/c/en/bumper/,/c/en/car/]',\n",
       " '/a/[/r/CapableOf/,/c/en/car/,/c/en/cost_lot_of_money/]',\n",
       " '/a/[/r/AtLocation/,/c/en/car/,/c/en/car_show/]',\n",
       " '/a/[/r/AtLocation/,/c/en/car/,/c/en/race_track/]',\n",
       " '/a/[/r/HasPrerequisite/,/c/en/driving/,/c/en/car/]',\n",
       " '/a/[/r/IsA/,/c/en/oldsmobile/,/c/en/car/]',\n",
       " '/a/[/r/CapableOf/,/c/en/car/,/c/en/pass_another_car/]',\n",
       " '/a/[/r/PartOf/,/c/en/engine/,/c/en/car/]',\n",
       " '/a/[/r/CapableOf/,/c/en/car/,/c/en/enter_garage/]',\n",
       " '/a/[/r/RelatedTo/,/c/en/car/,/c/en/wheels/]',\n",
       " '/a/[/r/RelatedTo/,/c/en/car/,/c/en/auto/]',\n",
       " '/a/[/r/RelatedTo/,/c/en/automobile/,/c/en/car/]',\n",
       " '/a/[/r/RelatedTo/,/c/en/seat/,/c/en/car/]',\n",
       " '/a/[/r/AtLocation/,/c/en/passengers/,/c/en/car/]',\n",
       " '/a/[/r/PartOf/,/c/en/wheels/,/c/en/car/]',\n",
       " '/a/[/r/AtLocation/,/c/en/umbrella/,/c/en/car/]',\n",
       " '/a/[/r/AtLocation/,/c/en/mirror/,/c/en/car/]',\n",
       " '/a/[/r/AtLocation/,/c/en/garage/,/c/en/car/]',\n",
       " '/a/[/r/HasA/,/c/en/car/,/c/en/seat/]']"
      ]
     },
     "metadata": {},
     "execution_count": 21
    }
   ],
   "source": [
    "[x['@id'] for x in obj2['edges']]"
   ]
  },
  {
   "cell_type": "code",
   "execution_count": 12,
   "metadata": {},
   "outputs": [
    {
     "output_type": "execute_result",
     "data": {
      "text/plain": [
       "['/a/[/r/RelatedTo/,/c/en/drive/,/c/en/car/]',\n",
       " '/a/[/r/AtLocation/,/c/en/car/,/c/en/city/]',\n",
       " '/a/[/r/AtLocation/,/c/en/car/,/c/en/parking_lot/]',\n",
       " '/a/[/r/RelatedTo/,/c/en/car/,/c/en/vehicle/]',\n",
       " '/a/[/r/CapableOf/,/c/en/car/,/c/en/go_fast/]',\n",
       " '/a/[/r/CapableOf/,/c/en/car/,/c/en/crash/]',\n",
       " '/a/[/r/HasA/,/c/en/car/,/c/en/seats/]',\n",
       " '/a/[/r/AtLocation/,/c/en/car/,/c/en/repair_shop/]',\n",
       " '/a/[/r/CapableOf/,/c/en/car/,/c/en/roll_over/]',\n",
       " '/a/[/r/RelatedTo/,/c/en/motor/,/c/en/car/]',\n",
       " '/a/[/r/RelatedTo/,/c/en/car/,/c/en/automobile/]',\n",
       " '/a/[/r/CapableOf/,/c/en/car/,/c/en/slow_down/]',\n",
       " '/a/[/r/PartOf/,/c/en/tire/,/c/en/car/]',\n",
       " '/a/[/r/AtLocation/,/c/en/car/,/c/en/road/]',\n",
       " '/a/[/r/IsA/,/c/en/volvo/,/c/en/car/]',\n",
       " '/a/[/r/AtLocation/,/c/en/stereo/,/c/en/car/]',\n",
       " '/a/[/r/AtLocation/,/c/en/car/,/c/en/freeway/]',\n",
       " '/a/[/r/AtLocation/,/c/en/car/,/c/en/car_show/]',\n",
       " '/a/[/r/HasProperty/,/c/en/car/,/c/en/red/]',\n",
       " '/a/[/r/PartOf/,/c/en/engine/,/c/en/car/]']"
      ]
     },
     "metadata": {},
     "execution_count": 12
    }
   ],
   "source": [
    "[x['@id'] for x in obj['edges']]"
   ]
  },
  {
   "cell_type": "code",
   "execution_count": 23,
   "metadata": {},
   "outputs": [
    {
     "output_type": "execute_result",
     "data": {
      "text/plain": [
       "[10.47186707325871,\n",
       " 7.483314773547882,\n",
       " 6.928203230275509,\n",
       " 6.573887738621643,\n",
       " 6.32455532033676,\n",
       " 6.32455532033676,\n",
       " 6.32455532033676,\n",
       " 5.656854249492381,\n",
       " 5.291502622129181,\n",
       " 5.165268628057983,\n",
       " 4.925038070918843,\n",
       " 4.898979485566356,\n",
       " 4.47213595499958,\n",
       " 4.47213595499958,\n",
       " 4.47213595499958,\n",
       " 4.0,\n",
       " 4.0,\n",
       " 3.4641016151377544,\n",
       " 3.4641016151377544,\n",
       " 3.4641016151377544]"
      ]
     },
     "metadata": {},
     "execution_count": 23
    }
   ],
   "source": [
    "[x['weight'] for x in obj['edges']]"
   ]
  }
 ]
}